{
 "cells": [
  {
   "cell_type": "code",
   "execution_count": null,
   "id": "37c3bea9-49cd-447d-9b5e-2396863ea3c3",
   "metadata": {},
   "outputs": [],
   "source": [
    "import pandas as pd\n",
    "import numpy as np\n",
    "import plotly.express as px\n",
    "\n",
    "data = pd.read_csv(\"deliverytime.txt\")\n",
    "data.head()"
   ]
  },
  {
   "cell_type": "code",
   "execution_count": null,
   "id": "987df84f-2f03-495b-a403-fcab6d400b32",
   "metadata": {},
   "outputs": [],
   "source": [
    "data.info()"
   ]
  },
  {
   "cell_type": "code",
   "execution_count": null,
   "id": "dce05475-fe78-471b-a991-92ae2518fe38",
   "metadata": {},
   "outputs": [],
   "source": [
    "data.isnull().sum()"
   ]
  },
  {
   "cell_type": "code",
   "execution_count": null,
   "id": "533058aa-52e5-4fa5-ab1f-633ef654346a",
   "metadata": {},
   "outputs": [],
   "source": [
    "# Set the earth's radius (in kilometers)\n",
    "R = 6371\n",
    "\n",
    "# Convert degrees to radians\n",
    "def deg_to_rad(degrees):\n",
    "    return degrees * (np.pi/180)\n",
    "\n",
    "# Function to calculate the distance between two points using the haversine formula\n",
    "def distcalculate(lat1, lon1, lat2, lon2):\n",
    "    d_lat = deg_to_rad(lat2-lat1)\n",
    "    d_lon = deg_to_rad(lon2-lon1)\n",
    "    a = np.sin(d_lat/2)**2 + np.cos(deg_to_rad(lat1)) * np.cos(deg_to_rad(lat2)) * np.sin(d_lon/2)**2\n",
    "    c = 2 * np.arctan2(np.sqrt(a), np.sqrt(1-a))\n",
    "    return R * c\n",
    "  \n",
    "# Calculate the distance between each pair of points\n",
    "data['distance'] = np.nan\n",
    "\n",
    "for i in range(len(data)):\n",
    "    data.loc[i, 'Distance in km'] = distcalculate(data.loc[i, 'Restaurant_latitude'], \n",
    "                                        data.loc[i, 'Restaurant_longitude'], \n",
    "                                        data.loc[i, 'Delivery_location_latitude'], \n",
    "                                        data.loc[i, 'Delivery_location_longitude'])"
   ]
  },
  {
   "cell_type": "code",
   "execution_count": null,
   "id": "6bf29c93-d3ef-445b-961f-008524afe238",
   "metadata": {},
   "outputs": [],
   "source": [
    "data.head()"
   ]
  },
  {
   "cell_type": "code",
   "execution_count": null,
   "id": "adaf515b-49a7-4327-adcf-63cd4450d639",
   "metadata": {},
   "outputs": [],
   "source": [
    "figure = px.scatter(data_frame = data, \n",
    "                    x=\"Distance in km\",\n",
    "                    y=\"Time_taken(min)\", \n",
    "                    size=\"Time_taken(min)\", \n",
    "                    trendline=\"ols\", \n",
    "                    title = \"Relationship Between Distance and Time Taken\")\n",
    "figure.show()"
   ]
  },
  {
   "cell_type": "code",
   "execution_count": null,
   "id": "8d4b83b0-8692-41a9-855e-35af882b186a",
   "metadata": {},
   "outputs": [],
   "source": [
    "figure = px.scatter(data_frame = data, \n",
    "                    x=\"Delivery_person_Age\",\n",
    "                    y=\"Time_taken(min)\", \n",
    "                    size=\"Time_taken(min)\", \n",
    "                    color = \"Distance in km\",\n",
    "                    trendline=\"ols\", \n",
    "                    title = \"Relationship Between Time Taken and Age\")\n",
    "figure.show()"
   ]
  },
  {
   "cell_type": "code",
   "execution_count": null,
   "id": "0468ca07-983d-44b6-9233-b4e0ca61abfa",
   "metadata": {},
   "outputs": [],
   "source": [
    "figure = px.scatter(data_frame = data, \n",
    "                    x=\"Delivery_person_Ratings\",\n",
    "                    y=\"Time_taken(min)\", \n",
    "                    size=\"Time_taken(min)\", \n",
    "                    color = \"Distance in km\",\n",
    "                    trendline=\"ols\", \n",
    "                    title = \"Relationship Between Time Taken and Ratings\")\n",
    "figure.show()"
   ]
  },
  {
   "cell_type": "code",
   "execution_count": null,
   "id": "4f010e4d-710f-4664-b3c8-94cbd2e7c7c7",
   "metadata": {},
   "outputs": [],
   "source": [
    "fig = px.box(data, \n",
    "             x=\"Type_of_vehicle\",\n",
    "             y=\"Time_taken(min)\", \n",
    "             color=\"Type_of_order\")\n",
    "fig.show()"
   ]
  },
  {
   "cell_type": "code",
   "execution_count": null,
   "id": "7e5d9049-d37e-4be8-b835-b382f359efef",
   "metadata": {},
   "outputs": [],
   "source": [
    "# Step 1: Import necessary libraries and modules\n",
    "import numpy as np\n",
    "from sklearn.linear_model import Ridge\n",
    "from sklearn.ensemble import RandomForestRegressor\n",
    "from sklearn.metrics import mean_absolute_error, mean_squared_error, r2_score\n",
    "from sklearn.model_selection import train_test_split\n",
    "\n",
    "# Assume 'data' is already defined and loaded, with relevant columns as shown in the prompt\n",
    "\n",
    "# Step 2: Split the data (already done)\n",
    "x = np.array(data[[\"Delivery_person_Age\", \"Delivery_person_Ratings\", \"Distance in km\"]])\n",
    "y = np.array(data[[\"Time_taken(min)\"]])\n",
    "xtrain, xtest, ytrain, ytest = train_test_split(x, y, test_size=0.10, random_state=42)\n",
    "\n",
    "# Step 3: Fit Ridge Regression to the training data\n",
    "ridge_model = Ridge()\n",
    "ridge_model.fit(xtrain, ytrain)\n",
    "ridge_predictions = ridge_model.predict(xtest)\n",
    "\n",
    "# Step 4: Fit Random Forest Regression to the training data\n",
    "rf_model = RandomForestRegressor(random_state=42)\n",
    "rf_model.fit(xtrain, ytrain.ravel())  # .ravel() is used to convert ytrain to 1D array\n",
    "rf_predictions = rf_model.predict(xtest)\n",
    "\n",
    "# Step 5: Evaluate the performance of both models\n",
    "ridge_mae = mean_absolute_error(ytest, ridge_predictions)\n",
    "ridge_mse = mean_squared_error(ytest, ridge_predictions)\n",
    "ridge_rmse = np.sqrt(ridge_mse)\n",
    "ridge_r2 = r2_score(ytest, ridge_predictions)\n",
    "\n",
    "rf_mae = mean_absolute_error(ytest, rf_predictions)\n",
    "rf_mse = mean_squared_error(ytest, rf_predictions)\n",
    "rf_rmse = np.sqrt(rf_mse)\n",
    "rf_r2 = r2_score(ytest, rf_predictions)\n",
    "\n",
    "# Print evaluation results\n",
    "print(f\"Ridge Regression - MAE: {ridge_mae}, MSE: {ridge_mse}, RMSE: {ridge_rmse}, R²: {ridge_r2}\")\n",
    "print(f\"Random Forest Regression - MAE: {rf_mae}, MSE: {rf_mse}, RMSE: {rf_rmse}, R²: {rf_r2}\")\n"
   ]
  },
  {
   "cell_type": "code",
   "execution_count": null,
   "id": "20ecf7fc-7972-4dc8-8257-6675fe2d10ab",
   "metadata": {},
   "outputs": [],
   "source": [
    "print(\"Food Delivery Time Prediction\")\n",
    "a = int(input(\"Age of Delivery Partner: \"))\n",
    "b = float(input(\"Ratings of Previous Deliveries: \"))\n",
    "c = int(input(\"Total Distance: \"))\n",
    "\n",
    "features = np.array([[a, b, c]])\n",
    "print(\"Predicted Delivery Time in Minutes = \", rf_model.predict(features))"
   ]
  },
  {
   "cell_type": "code",
   "execution_count": null,
   "id": "544d7dda-208d-438f-9fa7-2c1d0d013c96",
   "metadata": {},
   "outputs": [],
   "source": []
  }
 ],
 "metadata": {
  "kernelspec": {
   "display_name": "Python 3 (ipykernel)",
   "language": "python",
   "name": "python3"
  },
  "language_info": {
   "codemirror_mode": {
    "name": "ipython",
    "version": 3
   },
   "file_extension": ".py",
   "mimetype": "text/x-python",
   "name": "python",
   "nbconvert_exporter": "python",
   "pygments_lexer": "ipython3",
   "version": "3.11.7"
  }
 },
 "nbformat": 4,
 "nbformat_minor": 5
}
